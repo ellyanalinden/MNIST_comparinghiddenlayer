{
  "nbformat": 4,
  "nbformat_minor": 0,
  "metadata": {
    "colab": {
      "name": "MNIST_2_hidden_layer.ipynb",
      "version": "0.3.2",
      "provenance": [],
      "toc_visible": true,
      "include_colab_link": true
    },
    "kernelspec": {
      "display_name": "Python 3",
      "language": "python",
      "name": "python3"
    }
  },
  "cells": [
    {
      "cell_type": "markdown",
      "metadata": {
        "id": "view-in-github",
        "colab_type": "text"
      },
      "source": [
        "<a href=\"https://colab.research.google.com/github/ellyanalinden/MNIST_comparinghiddenlayer/blob/master/MNIST_2_hidden_layer.ipynb\" target=\"_parent\"><img src=\"https://colab.research.google.com/assets/colab-badge.svg\" alt=\"Open In Colab\"/></a>"
      ]
    },
    {
      "metadata": {
        "id": "AEdxQfObS8a2",
        "colab_type": "text"
      },
      "cell_type": "markdown",
      "source": [
        "**Steps**\n",
        "\n",
        "1. Load Dataset\n",
        "2. Make Dataset Iterable\n",
        "3. ***Create Model Class. Change this part***\n",
        "4. Instantiate Model Class\n",
        "5. Instantiate Loss Class\n",
        "6. Instantiate Optimizer Class\n",
        "7. Train Model"
      ]
    },
    {
      "metadata": {
        "id": "ED9dSYB_UifV",
        "colab_type": "code",
        "colab": {}
      },
      "cell_type": "code",
      "source": [
        "# http://pytorch.org/\n",
        "from os.path import exists\n",
        "from wheel.pep425tags import get_abbr_impl, get_impl_ver, get_abi_tag\n",
        "platform = '{}{}-{}'.format(get_abbr_impl(), get_impl_ver(), get_abi_tag())\n",
        "cuda_output = !ldconfig -p|grep cudart.so|sed -e 's/.*\\.\\([0-9]*\\)\\.\\([0-9]*\\)$/cu\\1\\2/'\n",
        "accelerator = cuda_output[0] if exists('/dev/nvidia0') else 'cpu'\n",
        "\n",
        "!pip install -q http://download.pytorch.org/whl/{accelerator}/torch-0.4.1-{platform}-linux_x86_64.whl torchvision\n",
        "import torch"
      ],
      "execution_count": 0,
      "outputs": []
    },
    {
      "metadata": {
        "id": "DvFkU79ZUgn1",
        "colab_type": "code",
        "colab": {}
      },
      "cell_type": "code",
      "source": [
        "# Step 1: Loading MNIST Train Dataset\n",
        "import torch #for tensor\n",
        "import torch.nn as nn #for model\n",
        "import torchvision.transforms as transforms #for dataset loading\n",
        "import torchvision.datasets as dsets #for dataset loading\n",
        "from torch.autograd import Variable #to instantiate variable"
      ],
      "execution_count": 0,
      "outputs": []
    },
    {
      "metadata": {
        "id": "javdhZn3Un-z",
        "colab_type": "code",
        "colab": {
          "base_uri": "https://localhost:8080/",
          "height": 119
        },
        "outputId": "51f5cdb5-affb-4e3e-e0c7-8516fcee4d8e"
      },
      "cell_type": "code",
      "source": [
        "train_dataset = dsets.MNIST(root='./data',\n",
        "                           train = True,\n",
        "                           transform=transforms.ToTensor(),\n",
        "                           download=True)\n",
        "\n",
        "test_dataset = dsets.MNIST(root='./data',\n",
        "                          train = False,\n",
        "                          transform=transforms.ToTensor())"
      ],
      "execution_count": 3,
      "outputs": [
        {
          "output_type": "stream",
          "text": [
            "Downloading http://yann.lecun.com/exdb/mnist/train-images-idx3-ubyte.gz\n",
            "Downloading http://yann.lecun.com/exdb/mnist/train-labels-idx1-ubyte.gz\n",
            "Downloading http://yann.lecun.com/exdb/mnist/t10k-images-idx3-ubyte.gz\n",
            "Downloading http://yann.lecun.com/exdb/mnist/t10k-labels-idx1-ubyte.gz\n",
            "Processing...\n",
            "Done!\n"
          ],
          "name": "stdout"
        }
      ]
    },
    {
      "metadata": {
        "id": "FktvG6atVLox",
        "colab_type": "code",
        "colab": {}
      },
      "cell_type": "code",
      "source": [
        "# Step 2: Make dataset iterable\n",
        "\n",
        "batch_size = 100 #every iteration, we feed 100 images to the model at one time\n",
        "n_iters = 6000 #1 epoch 6000 iterations\n",
        "\n",
        "#1 epoch is going through training dataset once\n",
        "num_epochs = n_iters/ (len(train_dataset) / batch_size) \n",
        "#num_epochs = 6000/(60000/100) = 10 epochs, meaning we're going through the dataset 10 times\n",
        "num_epochs = int(num_epochs)\n",
        "\n",
        "#Make dataset iterable\n",
        "train_loader = torch.utils.data.DataLoader(dataset=train_dataset,\n",
        "                                          batch_size=batch_size,\n",
        "                                          shuffle=True) #after single epoch, we shuffle the image\n",
        "\n",
        "test_loader = torch.utils.data.DataLoader(dataset=test_dataset,\n",
        "                                         batch_size=batch_size,\n",
        "                                         shuffle=False)"
      ],
      "execution_count": 0,
      "outputs": []
    },
    {
      "metadata": {
        "id": "CbzERyJ-YC1v",
        "colab_type": "code",
        "colab": {}
      },
      "cell_type": "code",
      "source": [
        "# Step 3: Create Model Class\n",
        "class TwoHiddenLayerModel(nn.Module):\n",
        "  #create classes instantiate object\n",
        "  def __init__(self, input_size, hidden_size, num_classes):\n",
        "    super(TwoHiddenLayerModel, self).__init__()\n",
        "    # Linear function 1: 784 --> 100\n",
        "    self.fc1 = nn.Linear(input_dim, hidden_dim)\n",
        "    # Non-linearity 1\n",
        "    self.relu = nn.ReLU()\n",
        "    \n",
        "    # Linear function 2: 100 --> 100\n",
        "    self.fc2 = nn.Linear(input_dim, hidden_dim)\n",
        "    # Non-linearity 1\n",
        "    self.relu2 = nn.ReLU()\n",
        "    \n",
        "    # Linear function 3 (readout): 100 -->10\n",
        "    self.fc3 = nn.Linear(hidden_dim, output_dim)\n",
        "    \n",
        "  #run classes  \n",
        "  def forward(self, x):\n",
        "    # Linear function 1\n",
        "    out = self.fc1(x)\n",
        "    # Non-linearity 1\n",
        "    out = self.relu(out)\n",
        "    \n",
        "    # Linear function 2\n",
        "    out = self.fc2(x)\n",
        "    # Non-linearity 2\n",
        "    out = self.relu2(out)\n",
        "    \n",
        "    # Linear function 3 (readout)\n",
        "    out = self.fc3(out)\n",
        "    return out"
      ],
      "execution_count": 0,
      "outputs": []
    },
    {
      "metadata": {
        "id": "zcoMOj7XbGTh",
        "colab_type": "text"
      },
      "cell_type": "markdown",
      "source": [
        "**Instantiate Model Class**\n",
        "\n",
        "1. Input dimension: 784\n",
        "    Image size = 28 x 28 = 784\n",
        "2. Output dimension: 10\n",
        "3. Hidden dimension: 100 (can be any number)"
      ]
    },
    {
      "metadata": {
        "id": "LVuwiUrcacV3",
        "colab_type": "code",
        "colab": {}
      },
      "cell_type": "code",
      "source": [
        "# Step 4: Instantiate Model Class\n",
        "input_dim = 28*28\n",
        "hidden_dim = 100\n",
        "output_dim = 10\n",
        "\n",
        "model = TwoHiddenLayerModel(input_dim, hidden_dim, output_dim)"
      ],
      "execution_count": 0,
      "outputs": []
    },
    {
      "metadata": {
        "id": "kMP9hTsDcdUV",
        "colab_type": "code",
        "colab": {}
      },
      "cell_type": "code",
      "source": [
        "# Step 5: Instantiate Loss Class\n",
        "# Softmax included in CEL\n",
        "criterion = nn.CrossEntropyLoss()"
      ],
      "execution_count": 0,
      "outputs": []
    },
    {
      "metadata": {
        "id": "zgiZHFhkglz-",
        "colab_type": "code",
        "colab": {}
      },
      "cell_type": "code",
      "source": [
        "# Step 6: Instantiate Optimizer Class\n",
        "# Goal to update model's parameter at every iteration (after 100 images)\n",
        "learning_rate = 0.1\n",
        "optimizer = torch.optim.SGD(model.parameters(), lr=learning_rate)"
      ],
      "execution_count": 0,
      "outputs": []
    },
    {
      "metadata": {
        "id": "c60LsJQThDXK",
        "colab_type": "code",
        "outputId": "a8a17049-4059-4e6a-8066-a52e2766093e",
        "colab": {
          "base_uri": "https://localhost:8080/",
          "height": 153
        }
      },
      "cell_type": "code",
      "source": [
        "# Access the parameters\n",
        "print(model.parameters())\n",
        "\n",
        "print(len(list(model.parameters())))\n",
        "\n",
        "# FC 1 parameters\n",
        "print(list(model.parameters())[0].size())\n",
        "\n",
        "# FC 1 Bias Parameters\n",
        "print(list(model.parameters())[1].size())\n",
        "\n",
        "# FC 2 Parameters\n",
        "print (list(model.parameters())[2].size())\n",
        "\n",
        "# FC 2 Bias Parameters\n",
        "print (list(model.parameters())[3].size())\n",
        "\n",
        "# FC 3 Parameters\n",
        "print (list(model.parameters())[4].size())\n",
        "\n",
        "# FC 3 Bias Parameters\n",
        "print (list(model.parameters())[5].size())\n"
      ],
      "execution_count": 9,
      "outputs": [
        {
          "output_type": "stream",
          "text": [
            "<generator object Module.parameters at 0x7f618ab650f8>\n",
            "6\n",
            "torch.Size([100, 784])\n",
            "torch.Size([100])\n",
            "torch.Size([100, 784])\n",
            "torch.Size([100])\n",
            "torch.Size([10, 100])\n",
            "torch.Size([10])\n"
          ],
          "name": "stdout"
        }
      ]
    },
    {
      "metadata": {
        "id": "TZ6GTdbpjr0U",
        "colab_type": "text"
      },
      "cell_type": "markdown",
      "source": [
        "**Training Model Steps**\n",
        "1. Convert inputs/labels to variables\n",
        "2. Clear gradient buffers\n",
        "3. Get output given inputs\n",
        "4. Get loss\n",
        "5. Get gradients w.r.t. parameters\n",
        "6. Update parameters using gradients\n",
        "7. REPEAT"
      ]
    },
    {
      "metadata": {
        "id": "lbNuHWiPiTxI",
        "colab_type": "code",
        "outputId": "de71ecc5-533b-4f27-dd0d-a7ec7a97f2d7",
        "colab": {
          "base_uri": "https://localhost:8080/",
          "height": 258
        }
      },
      "cell_type": "code",
      "source": [
        "# Training model\n",
        "iter = 0\n",
        "for epoch in range(num_epochs):\n",
        "  for i, (images, labels) in enumerate(train_loader):\n",
        "    # Load images as Variable\n",
        "    images = Variable(images.view(-1, 28*28))\n",
        "    labels = Variable(labels)\n",
        "    \n",
        "    # Clear gradients\n",
        "    optimizer.zero_grad()\n",
        "    \n",
        "    # Forward pass to get output/logits\n",
        "    outputs = model(images)\n",
        "    \n",
        "    # Calculate Loss: softmax --> CEL\n",
        "    loss = criterion(outputs, labels)\n",
        "    \n",
        "    # Getting gradients\n",
        "    loss.backward()\n",
        "    \n",
        "    # Updating parameters\n",
        "    optimizer.step()\n",
        "    \n",
        "    iter+=1\n",
        "    \n",
        "    if iter % 500 == 0:\n",
        "      # Calculate Accuracy\n",
        "      correct = 0\n",
        "      total = 0\n",
        "      # Iterate through test dataset\n",
        "      for images, labels in test_loader:\n",
        "        # Load images to a Torch Variable\n",
        "        images = Variable(images.view(-1, 28*28))\n",
        "        \n",
        "        # Forward pass only to get logits/output\n",
        "        outputs = model(images)\n",
        "        \n",
        "        # Get prediction from the maximum value\n",
        "        _, predicted = torch.max(outputs.data, 1)\n",
        "        \n",
        "        # Total number of labels\n",
        "        total += labels.size(0)\n",
        "        \n",
        "        # Total correct predictions\n",
        "        correct += (predicted == labels).sum()\n",
        "        \n",
        "      accuracy = 100* correct/ total\n",
        "      \n",
        "      # Print Loss\n",
        "      print('Iteration {}. Loss: {}. Accuracy: {}'.format(iter, loss.data[0],accuracy))"
      ],
      "execution_count": 10,
      "outputs": [
        {
          "output_type": "stream",
          "text": [
            "/usr/local/lib/python3.6/dist-packages/ipykernel_launcher.py:49: UserWarning: invalid index of a 0-dim tensor. This will be an error in PyTorch 0.5. Use tensor.item() to convert a 0-dim tensor to a Python number\n"
          ],
          "name": "stderr"
        },
        {
          "output_type": "stream",
          "text": [
            "Iteration 500. Loss: 0.3749723732471466. Accuracy: 91\n",
            "Iteration 1000. Loss: 0.28421130776405334. Accuracy: 93\n",
            "Iteration 1500. Loss: 0.2760450839996338. Accuracy: 93\n",
            "Iteration 2000. Loss: 0.1538916975259781. Accuracy: 94\n",
            "Iteration 2500. Loss: 0.14108964800834656. Accuracy: 95\n",
            "Iteration 3000. Loss: 0.1378956437110901. Accuracy: 95\n",
            "Iteration 3500. Loss: 0.113124780356884. Accuracy: 95\n",
            "Iteration 4000. Loss: 0.16928768157958984. Accuracy: 96\n",
            "Iteration 4500. Loss: 0.11813310533761978. Accuracy: 96\n",
            "Iteration 5000. Loss: 0.1161489263176918. Accuracy: 96\n",
            "Iteration 5500. Loss: 0.2259005755186081. Accuracy: 96\n",
            "Iteration 6000. Loss: 0.07550930976867676. Accuracy: 96\n"
          ],
          "name": "stdout"
        }
      ]
    }
  ]
}